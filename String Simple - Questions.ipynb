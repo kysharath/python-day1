{
 "cells": [
  {
   "cell_type": "markdown",
   "metadata": {},
   "source": [
    "# String Simple Questions"
   ]
  },
  {
   "cell_type": "code",
   "execution_count": 1,
   "metadata": {},
   "outputs": [
    {
     "name": "stdout",
     "output_type": "stream",
     "text": [
      "6\n"
     ]
    }
   ],
   "source": [
    "#1. Write a Python program to calculate the length of a given string.\n",
    "    #Data:\n",
    "    #    \"Baskar\"\n",
    "    #Expected Output:\n",
    "    #   6\n",
    "str=\"Baskar\"\n",
    "print(len(str))\n",
    "     \n",
    "          \n",
    "        "
   ]
  },
  {
   "cell_type": "code",
   "execution_count": 16,
   "metadata": {},
   "outputs": [
    {
     "name": "stdout",
     "output_type": "stream",
     "text": [
      "ython\n",
      "pyton\n",
      "pytho\n"
     ]
    }
   ],
   "source": [
    "# 2. Write a Python program to remove the character of the nth index from a given string. \n",
    "#     Data:\n",
    "#         \"Python\"\n",
    "#     Expected Output:\n",
    "#         ython\n",
    "#         Pyton\n",
    "#         Pytho\n",
    "\n",
    "data=\"python\"\n",
    "res=\"\"\n",
    "n=0\n",
    "for i in range(0,len(data)):\n",
    "    if (i!=n):\n",
    "        res=res+data[i]\n",
    "\n",
    "print(res)\n",
    " ###############################################################\n",
    "data=\"python\"\n",
    "res=\"\"\n",
    "n=3\n",
    "for i in range(0,len(data)):\n",
    "    if (i!=n):\n",
    "        res=res+data[i]\n",
    "\n",
    "print(res)   \n",
    "\n",
    "################################################################\n",
    "data=\"python\"\n",
    "res=\"\"\n",
    "n=5\n",
    "for i in range(0,len(data)):\n",
    "    if (i!=n):\n",
    "        res=res+data[i]\n",
    "\n",
    "print(res)    \n",
    "    "
   ]
  },
  {
   "cell_type": "code",
   "execution_count": 4,
   "metadata": {},
   "outputs": [
    {
     "name": "stdout",
     "output_type": "stream",
     "text": [
      "dbca\n"
     ]
    }
   ],
   "source": [
    "#3. Write a Python program to interchange the first and last character of a given string.\n",
    "    # Data:\n",
    "    #     'abcd'\n",
    "    #     '12345'\n",
    "    # Expected Output:\n",
    "    #     dbca\n",
    "    #     52341\n",
    "\n",
    "\n",
    "s=\"abcd\"\n",
    "output=s[-1] + s[1:-1] + s[0]\n",
    "print(output)\n",
    "    \n",
    "    \n",
    "\n",
    "        \n",
    "        \n",
    "        \n",
    "        "
   ]
  },
  {
   "cell_type": "code",
   "execution_count": 10,
   "metadata": {},
   "outputs": [
    {
     "name": "stdout",
     "output_type": "stream",
     "text": [
      "ace\n"
     ]
    }
   ],
   "source": [
    "# 4. Write a Python program to remove the values of the odd index from a given string.\n",
    "#     Data:\n",
    "#         'abcdef'\n",
    "#         'python'\n",
    "#     Expected Output:\n",
    "#         ace\n",
    "#         pto\n",
    "data='abcdef'\n",
    "index_number=0\n",
    "res=\"\"\n",
    "for i in data:\n",
    "    if index_number % 2 ==0:\n",
    "        res+=i\n",
    "    index_number+=1\n",
    "print(res)      \n",
    "        \n",
    "        \n",
    "        "
   ]
  },
  {
   "cell_type": "code",
   "execution_count": 14,
   "metadata": {},
   "outputs": [
    {
     "name": "stdin",
     "output_type": "stream",
     "text": [
      "Whats your favourite language Tamil\n"
     ]
    },
    {
     "name": "stdout",
     "output_type": "stream",
     "text": [
      "My favourite language is TAMIL\n"
     ]
    }
   ],
   "source": [
    "# 5. Write a Python program to get input from the user and print the input back in uppercase.\n",
    "#     Data:\n",
    "#         Whats your favourite language: Tamil\n",
    "#     Expected Output:\n",
    "#         My favourite language is  TAMIL\n",
    "#         My favourite language is  tamil\n",
    "data=input(\"Whats your favourite language\")\n",
    "print(f\"My favourite language is {data.upper()}\")\n",
    "\n",
    "        \n",
    "        \n",
    "        "
   ]
  },
  {
   "cell_type": "code",
   "execution_count": 17,
   "metadata": {},
   "outputs": [
    {
     "name": "stdin",
     "output_type": "stream",
     "text": [
      "Words:  red, white, black, red, green, black\n"
     ]
    },
    {
     "name": "stdout",
     "output_type": "stream",
     "text": [
      "black, black, green, red, red, white\n"
     ]
    }
   ],
   "source": [
    "# 6. Write a Python program that accepts a comma separated sequence of words as input and print only the unique strings in sorted.\n",
    "#     Data:\n",
    "#         Words : red, white, black, red, green, black\n",
    "#     Expected Output:\n",
    "#         black, green, red, white,red\n",
    "        \n",
    "\n",
    "words = input(\"Words: \")\n",
    "word_list = [w.strip() for w in words.split(\",\")]\n",
    "word_list.sort()\n",
    "print(', '.join(word_list))\n",
    "        \n",
    "        "
   ]
  },
  {
   "cell_type": "code",
   "execution_count": null,
   "metadata": {},
   "outputs": [],
   "source": [
    "7. Write a Python function to create the HTML string with tags around the string.\n",
    "    Data:\n",
    "        ('i', 'Python')\n",
    "        ('b', 'Python Tutorial')\n",
    "    Expected Output:\n",
    "        <i>Python</i>\n",
    "        <b>Python Tutorial </b>\n",
    "        \n",
    "        \n",
    "        \n",
    "        "
   ]
  },
  {
   "cell_type": "code",
   "execution_count": 45,
   "metadata": {},
   "outputs": [
    {
     "name": "stdout",
     "output_type": "stream",
     "text": [
      "[[Python]]\n",
      "{{PHP}}\n"
     ]
    }
   ],
   "source": [
    "# 8. Write a Python function to insert the second string in the middle of a first string.\n",
    "#     Data:\n",
    "#         ('[[]]', 'Python')\n",
    "#         ('{{}}', 'PHP')\n",
    "#     Expected Output:\n",
    "#         [[Python]]\n",
    "#         {{PHP\n",
    "def insert_data(s1, s2):\n",
    "    mid = len(s1) // 2\n",
    "    return s1[:mid] + s2 + s1[mid:]\n",
    "\n",
    "# Test cases\n",
    "print(insert_data('[[]]', 'Python')) \n",
    "print(insert_data('{{}}', 'PHP')) \n",
    "        \n",
    "        \n",
    "        \n",
    "        "
   ]
  },
  {
   "cell_type": "code",
   "execution_count": 48,
   "metadata": {},
   "outputs": [
    {
     "name": "stdout",
     "output_type": "stream",
     "text": [
      "onononon\n"
     ]
    }
   ],
   "source": [
    "# 9. Write a Python function to get a string made of 4 copies of the last two characters of a specified string \n",
    "#     (length must be at least 2).\n",
    "#     Data:\n",
    "#         'Python'\n",
    "#     Expected Output:\n",
    "#         onononon\n",
    "\n",
    "def four_copies_last_two(s):\n",
    "     return s[-2:] * 4\n",
    "\n",
    "\n",
    "print(four_copies_last_two('Python'))     \n",
    "        \n",
    "        \n",
    "        "
   ]
  },
  {
   "cell_type": "code",
   "execution_count": 50,
   "metadata": {},
   "outputs": [
    {
     "name": "stdout",
     "output_type": "stream",
     "text": [
      "ipy\n",
      "pyt\n"
     ]
    }
   ],
   "source": [
    "# 10. Write a Python function to get a string made of its first three characters of a specified string. \n",
    "#     If the length of the string is less than 3 then return the original string.\n",
    "#     Data:\n",
    "#         'ipy'\n",
    "#         'python'\n",
    "#     Expected Output:\n",
    "#         ipy\n",
    "#         pyt\n",
    "\n",
    "def first_three(str):\n",
    "    if len(str)<3:\n",
    "        return str\n",
    "    else:\n",
    "        return str[:3]\n",
    "     \n",
    "print(first_three(\"ipy\"))\n",
    "print(first_three(\"python\"))    \n",
    "        \n",
    "        \n",
    "        "
   ]
  },
  {
   "cell_type": "code",
   "execution_count": 43,
   "metadata": {},
   "outputs": [
    {
     "name": "stdout",
     "output_type": "stream",
     "text": [
      "hgfedcba\n",
      "python\n"
     ]
    }
   ],
   "source": [
    "# 11. Write a Python function to reverse a string if its length is a multiple of 4.\n",
    "#     Data:\n",
    "#         'abcd'\n",
    "#         'python'\n",
    "#     Expected Output:\n",
    "#         dcba\n",
    "#         python\n",
    "def reverse_string(str):\n",
    "    if len(str)%4==0:\n",
    "        res=str[::-1]\n",
    "    else:\n",
    "        res=str\n",
    "    print(res)\n",
    "\n",
    "\n",
    "str1=\"abcdefgh\"\n",
    "str2=\"python\"\n",
    "reverse_string(str1)\n",
    "reverse_string(str2)\n",
    "        \n",
    "        \n",
    "        \n",
    "        "
   ]
  },
  {
   "cell_type": "code",
   "execution_count": null,
   "metadata": {},
   "outputs": [],
   "source": [
    "12. Write a Python program to get the last part of a string before a specified character.\n",
    "    Data:\n",
    "        str1 = 'https://www.aidinasaur.com/python-exercises/string'\n",
    "    Expected Output:\n",
    "        https://www.aidinasaur.com/python-exercises\n",
    "        https://www.aidinasaur.com/python\n",
    "            \n",
    "            \n",
    "            \n",
    "            "
   ]
  },
  {
   "cell_type": "code",
   "execution_count": 18,
   "metadata": {},
   "outputs": [
    {
     "name": "stdout",
     "output_type": "stream",
     "text": [
      "['a', 'a', 'a', 'd', 'i', 'i', 'n', 'r', 's', 'u']\n"
     ]
    }
   ],
   "source": [
    "# 13. Write a Python program to sort a string lexicographically.\n",
    "#     Data:\n",
    "#         aidinasaur\n",
    "#     Expected Output: \n",
    "#         ['a', 'a', 'a', 'd', 'i', 'i', 'n', 'r', 's', 'u']\n",
    "        \n",
    "        \n",
    "data = 'aidinasaur'\n",
    "char = sorted(data)\n",
    "print(char)\n",
    "    "
   ]
  },
  {
   "cell_type": "code",
   "execution_count": null,
   "metadata": {},
   "outputs": [],
   "source": [
    "14. Write a Python program to remove a newline in Python.\n",
    "    Data:\n",
    "        'Python Exercises\\n'\n",
    "    Expected Output: \n",
    "        Python Exercises\n",
    "\n",
    "        Python Exercises\n",
    "        \n",
    "        \n",
    "        \n",
    "        "
   ]
  },
  {
   "cell_type": "code",
   "execution_count": null,
   "metadata": {},
   "outputs": [],
   "source": [
    "15. Write a Python program to check whether a string starts with specified character.\n",
    "    Data:\n",
    "        aidinasaur.com\n",
    "    Expected Output:\n",
    "        True\n",
    "        \n",
    "        \n",
    "        \n",
    "        "
   ]
  },
  {
   "cell_type": "code",
   "execution_count": null,
   "metadata": {},
   "outputs": [],
   "source": [
    "16. Write a Python program to count the number of occurrences of a substring in a string.\n",
    "    Data:\n",
    "        \"Word to publish Word docs as web pages\"\n",
    "        count = \"word\"\n",
    "    Expected Output:\n",
    "        2\n",
    "        \n",
    "        \n",
    "        \n",
    "        "
   ]
  },
  {
   "cell_type": "code",
   "execution_count": null,
   "metadata": {},
   "outputs": [],
   "source": [
    "17. Write a Python program to reverse a string.\n",
    "    Data:\n",
    "        \"abcdef\"\n",
    "        \"Python Exercises.\"\n",
    "    Expected Output:\n",
    "        fedcba\n",
    "        .sesicrexE nohtyP\n",
    "        \n",
    "        \n",
    "        \n",
    "        "
   ]
  },
  {
   "cell_type": "code",
   "execution_count": 33,
   "metadata": {},
   "outputs": [
    {
     "name": "stdout",
     "output_type": "stream",
     "text": [
      "aidiNASAUR.COM\n"
     ]
    }
   ],
   "source": [
    "# 18. Write a Python program to lowercase first n characters in a string.\n",
    "#     Data:\n",
    "#         \"AIDINASAUR.COM\"\n",
    "#     Expected Output:  \n",
    "#         aidiNASAUR.COM\n",
    "data = \"AIDINASAUR.COM\"\n",
    "n = 4\n",
    "\n",
    "result = data[:n].lower() + data[n:]\n",
    "print(result)\n",
    "\n",
    "   \n",
    "        \n",
    "        "
   ]
  },
  {
   "cell_type": "code",
   "execution_count": 27,
   "metadata": {},
   "outputs": [
    {
     "name": "stdout",
     "output_type": "stream",
     "text": [
      "32,054.23\n"
     ]
    }
   ],
   "source": [
    "# 19. Write a Python program to swap comma and dot in a string.\n",
    "#     Data:\n",
    "#         \"32.054,23\"\n",
    "#     Expected Output:\n",
    "#         \"32,054.23\"\n",
    "data=\"32.054,23\"\n",
    "temp=data.replace(',', '@')\n",
    "temp = temp.replace('.', ',')\n",
    "output = temp.replace('@', '.')\n",
    "print(output)\n",
    "\n",
    "        \n",
    "        \n",
    "        \n",
    "        "
   ]
  },
  {
   "cell_type": "code",
   "execution_count": 23,
   "metadata": {},
   "outputs": [
    {
     "name": "stdout",
     "output_type": "stream",
     "text": [
      "7\n",
      "['A', 'I', 'I', 'A', 'A', 'U', 'O']\n"
     ]
    }
   ],
   "source": [
    "# 20. Write a Python program to count and display the vowels of a given text.\n",
    "#     Data:\n",
    "#         \"AIDINASAUR.COM\"\n",
    "#     Expected Output:\n",
    "#         7\n",
    "#         ['A', 'I', 'I', 'A', 'A', 'U', 'O']\n",
    "\n",
    "data = \"AIDINASAUR.COM\"\n",
    "vowels = ['A', 'E', 'I', 'O', 'U']\n",
    "present_vowels = [char for char in data if char in vowels]\n",
    "print(len(present_vowels))\n",
    "print(present_vowels)\n",
    "        \n",
    "        \n",
    "        "
   ]
  }
 ],
 "metadata": {
  "kernelspec": {
   "display_name": "Python 3 (ipykernel)",
   "language": "python",
   "name": "python3"
  },
  "language_info": {
   "codemirror_mode": {
    "name": "ipython",
    "version": 3
   },
   "file_extension": ".py",
   "mimetype": "text/x-python",
   "name": "python",
   "nbconvert_exporter": "python",
   "pygments_lexer": "ipython3",
   "version": "3.12.7"
  }
 },
 "nbformat": 4,
 "nbformat_minor": 4
}
