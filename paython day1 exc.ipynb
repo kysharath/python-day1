{
 "cells": [
  {
   "cell_type": "code",
   "execution_count": 1,
   "metadata": {},
   "outputs": [
    {
     "name": "stdout",
     "output_type": "stream",
     "text": [
      "sachin t-shirt number is 10\n"
     ]
    }
   ],
   "source": [
    "# Sample Question print - sachin t - shirt number is 10\n",
    "name = \"sachin\"\n",
    "t_shirt = 10\n",
    "# Your Answer\n",
    "\n",
    "print(name,\"t-shirt number is\",t_shirt)"
   ]
  },
  {
   "cell_type": "code",
   "execution_count": 1,
   "metadata": {},
   "outputs": [
    {
     "name": "stdout",
     "output_type": "stream",
     "text": [
      "india is number 1 team and has won 2012 worldcup and it rank 1 and the captain name is kholi\n"
     ]
    }
   ],
   "source": [
    "# 1 . Question | print - India is number 1 team and has won 2012 worldcup and it rank 1 and the captain name is kholi\n",
    "team = \"india\"\n",
    "worldcup = 2012\n",
    "captain = \"kholi\"\n",
    "rank = 1\n",
    "\n",
    "\n",
    "\n",
    "print(team,\"is number 1 team and has won\", worldcup, \"worldcup and it rank\", rank, \"and the captain name is\", captain)\n",
    "\n"
   ]
  },
  {
   "cell_type": "code",
   "execution_count": 13,
   "metadata": {},
   "outputs": [
    {
     "name": "stdout",
     "output_type": "stream",
     "text": [
      "<class 'int'> <class 'float'> <class 'str'>\n"
     ]
    }
   ],
   "source": [
    "# 2 . Question |print the datatype of the x,y,z\n",
    "\n",
    "x = 56\n",
    "y = 56.78\n",
    "z = \"python\"\n",
    "\n",
    "# your Answer\n",
    "\n",
    "\n",
    "\n",
    "\n",
    "print (type(x),  type(y),  type(z))\n"
   ]
  },
  {
   "cell_type": "code",
   "execution_count": 14,
   "metadata": {},
   "outputs": [
    {
     "name": "stdout",
     "output_type": "stream",
     "text": [
      "10.0\n"
     ]
    }
   ],
   "source": [
    "# 3 . Question | write a program to print 10.0 using typecasting\n",
    "\n",
    "a = 10\n",
    "\n",
    "# Your Answer\n",
    "\n",
    "\n",
    "print(float(a))\n",
    "\n"
   ]
  },
  {
   "cell_type": "code",
   "execution_count": 15,
   "metadata": {},
   "outputs": [
    {
     "name": "stdout",
     "output_type": "stream",
     "text": [
      "12\n"
     ]
    }
   ],
   "source": [
    "# 4 . Question | write a program to print 12 using typecasting\n",
    "\n",
    "a = 12.56\n",
    "\n",
    "# Your Answer\n",
    "\n",
    "\n",
    "print(int(a))"
   ]
  },
  {
   "cell_type": "code",
   "execution_count": 27,
   "metadata": {},
   "outputs": [
    {
     "name": "stdout",
     "output_type": "stream",
     "text": [
      "30\n"
     ]
    }
   ],
   "source": [
    "# 5 . write a program print 30 by using typecasting conncept\n",
    "\n",
    "a = \"10\"\n",
    "b = \"20\"\n",
    "\n",
    "# Your Answer\n",
    "\n",
    "\n",
    "c=int(a)\n",
    "d=int(b)\n",
    "e=c+d\n",
    "print(e)\n",
    "\n",
    "\n"
   ]
  },
  {
   "cell_type": "code",
   "execution_count": 32,
   "metadata": {},
   "outputs": [
    {
     "name": "stdout",
     "output_type": "stream",
     "text": [
      "12 is an integer 1.5 is a float python is a string\n"
     ]
    }
   ],
   "source": [
    "\n",
    " "
   ]
  },
  {
   "cell_type": "code",
   "execution_count": null,
   "metadata": {},
   "outputs": [],
   "source": []
  }
 ],
 "metadata": {
  "kernelspec": {
   "display_name": "Python 3 (ipykernel)",
   "language": "python",
   "name": "python3"
  },
  "language_info": {
   "codemirror_mode": {
    "name": "ipython",
    "version": 3
   },
   "file_extension": ".py",
   "mimetype": "text/x-python",
   "name": "python",
   "nbconvert_exporter": "python",
   "pygments_lexer": "ipython3",
   "version": "3.12.7"
  }
 },
 "nbformat": 4,
 "nbformat_minor": 4
}
